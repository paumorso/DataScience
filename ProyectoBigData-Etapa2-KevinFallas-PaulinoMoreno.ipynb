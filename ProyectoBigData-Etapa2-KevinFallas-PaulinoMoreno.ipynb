{
 "cells": [
  {
   "cell_type": "markdown",
   "metadata": {},
   "source": [
    "# DataScience - Modulo4 - BigData"
   ]
  },
  {
   "cell_type": "markdown",
   "metadata": {},
   "source": [
    "# Proyecto: Machine Learning con datos en PostgreSQL"
   ]
  },
  {
   "cell_type": "markdown",
   "metadata": {},
   "source": [
    "# Integrantes: Kevin Fallas Cascante y Paulino Jose Moreno Solano"
   ]
  },
  {
   "cell_type": "markdown",
   "metadata": {},
   "source": [
    "## Etapa 2 - Análisis de ML en Big Data, uso de Spark y otros."
   ]
  },
  {
   "cell_type": "markdown",
   "metadata": {},
   "source": [
    "## Enunciado:\n",
    "\n",
    "Se cuanta con un conjunto de datos de la Empresa BIMBO de al rededor de 6 millones de registros de ventas, de los cuales se van a tomar alrededor de 1 millón de estos datos para crear un modelo que nos permita agrupar estas ventas en cuanto a la ruta, producto y cliente, de manera que se pueda tener este conjunto de datos divido en varios segmentos para identificar algunos segmentos de mercado, ya que se quieren obtener los mejores clientes en cuanto a las ventas.\n",
    "\n",
    "La idea es obtener los datos desde PostGreSQL y procesarlos mediante Spark a través de Python."
   ]
  },
  {
   "cell_type": "markdown",
   "metadata": {},
   "source": [
    "### Parte 1 - Cargar el Set de Datos."
   ]
  },
  {
   "cell_type": "markdown",
   "metadata": {},
   "source": [
    "#### 1.1 - Cargar de las librerias de PySpark."
   ]
  },
  {
   "cell_type": "code",
   "execution_count": 1,
   "metadata": {},
   "outputs": [],
   "source": [
    "# Importar librerias.\n",
    "import findspark\n",
    "findspark.init('C:\\Spark\\spark-2.4.4-bin-hadoop2.7')\n",
    "\n",
    "from datetime import datetime\n",
    "from pyspark.sql import SparkSession\n",
    "from pyspark.sql.functions import col, date_format, udf \n",
    "from pyspark.sql.types import DateType\n",
    "\n",
    "from pyspark.sql.functions import to_timestamp\n",
    "from pyspark.sql.types import StructType, StructField, StringType, IntegerType"
   ]
  },
  {
   "cell_type": "markdown",
   "metadata": {},
   "source": [
    "#### 1.2 - Configurar la sesión de Spark."
   ]
  },
  {
   "cell_type": "code",
   "execution_count": 2,
   "metadata": {},
   "outputs": [],
   "source": [
    "# Crear sesión de Spark\n",
    "spark = SparkSession \\\n",
    "    .builder \\\n",
    "    .appName(\"pyspark_bimbo_ML\") \\\n",
    "    .config(\"spark.driver.extraClassPath\", \"postgresql-42.1.4.jar\") \\\n",
    "    .config(\"spark.executor.extraClassPath\", \"postgresql-42.1.4.jar\") \\\n",
    "    .master(\"local[*]\") \\\n",
    "    .getOrCreate()"
   ]
  },
  {
   "cell_type": "markdown",
   "metadata": {},
   "source": [
    "#### 1.3- Guargar los datos en una estructura básica para ser usados en la conexión con PostgreSQL."
   ]
  },
  {
   "cell_type": "code",
   "execution_count": 3,
   "metadata": {},
   "outputs": [],
   "source": [
    "# Registro de datos de credenciales\n",
    "properties = {\n",
    "    'driver': 'org.postgresql.Driver',\n",
    "    'url': 'jdbc:postgresql://localhost/postgres',\n",
    "    'user': 'postgres',\n",
    "    'password': 'paumorso',\n",
    "    'dbtable': 'bimbo',\n",
    "}"
   ]
  },
  {
   "cell_type": "markdown",
   "metadata": {},
   "source": [
    "#### 1.4 - Conexión y lectura de la tabla desde PostgreSQL."
   ]
  },
  {
   "cell_type": "code",
   "execution_count": 4,
   "metadata": {},
   "outputs": [
    {
     "name": "stdout",
     "output_type": "stream",
     "text": [
      "+------+------+----------+--------+--------+----------+-----------+----------+--------------------+--------------------+--------------------+-----------------+--------------------+----------------+\n",
      "|    id|Semana|Agencia_ID|Canal_ID|Ruta_SAK|Cliente_ID|Producto_ID|     Fecha|      NombreProducto|              Ciudad|              Estado|    NombreCliente|         Ruta_Ciudad|     Ruta_Estado|\n",
      "+------+------+----------+--------+--------+----------+-----------+----------+--------------------+--------------------+--------------------+-----------------+--------------------+----------------+\n",
      "|499765|    10|      1637|       1|    1247|    333336|       4280|2019-03-10|Doraditas 110g TR...|  2367 SAN MARTIN T.|              PUEBLA|          MARIBEL|                 NaN|             NaN|\n",
      "|499766|    11|     23719|       1|    1277|    938151|       2233|2019-03-17|Pan Blanco 640g B...|  2371 TIERRA BLANCA|            VERACRUZ|    TRES HERMANOS|2089 AG. AZCAPOTZ...|    MÉXICO, D.F.|\n",
      "|499767|    10|     22090|       1|    4402|    883099|      37569|2019-03-10|Deliciosas Chocho...|2090 AG. TEPEJI D...|           QUERETARO|             ROSY|                 NaN|             NaN|\n",
      "|499768|    11|      1220|       1|    1418|   1223241|       1064|2019-03-17|Panque Marmol 255...|2048 AG. IXTAPALU...|    ESTADO DE MÉXICO|      SAN JUDITAS|                 NaN|             NaN|\n",
      "|499769|    10|      1555|       1|    2036|   2489901|      43069|2019-03-10|Pinguinos 2p 80g ...| 2562 MEXICALI PLAZA|BAJA CALIFORNIA N...|    PUESTO CARMEN|        2179 URUAPAN|       MICHOACÁN|\n",
      "|499770|    10|      3219|       1|    1649|    425403|      35141|2019-03-10|Super Pan Blanco ...|   2003 AG. COACALCO|    ESTADO DE MÉXICO|      LA ESTRELLA|                 NaN|             NaN|\n",
      "|499771|    10|      2029|       1|    2025|    232521|      43285|2019-03-10|Gansito 1p 50g MT...|2161 IRAPUATO GUA...|          GUANAJUATO|           ROSITA|                 NaN|             NaN|\n",
      "|499772|    10|      1615|       1|    1113|   4470872|       3270|2019-03-10|Conchas Vainilla ...|2358 MARTINEZ DE ...|            VERACRUZ|  NO IDENTIFICADO|  2008 AG. LAGO FILT|    MÉXICO, D.F.|\n",
      "|499773|    10|      2229|       1|    1104|   1144650|      35651|2019-03-10|Madalenas 3p 93g ...|2386 COATZACOALCO...|            VERACRUZ|  ABARROTES ANGEL|                 NaN|             NaN|\n",
      "|499774|    11|      1223|       1|    1172|   2394697|       1277|2019-03-17|Nito Edicion Espe...|2070 AG. XOCHIMIL...|        MÉXICO, D.F.|            JOANA| 2004 AG. CUAUTITLAN|ESTADO DE MÉXICO|\n",
      "|499775|    11|      2032|       1|    2863|   4391397|      43285|2019-03-17|Gansito 1p 50g MT...|2155 CELAYA NORPO...|          GUANAJUATO|  NO IDENTIFICADO|                 NaN|             NaN|\n",
      "|499776|    11|      1445|       1|    2032|    127555|      43307|2019-03-17|Gansito 1p 50g CC...|2479 SANTA CATARI...|          NUEVO LEÓN|       SUPER HUGO|2155 CELAYA NORPO...|      GUANAJUATO|\n",
      "|499777|    10|      1419|       1|    2109|    172688|      35305|2019-03-10|Barritas Fresa 75...|        2467 LINCOLN|          NUEVO LEÓN|SERVICIOS CUMBRES|                 NaN|             NaN|\n",
      "|499778|    10|      1122|       1|    1450|     73434|       1278|2019-03-10|Nito 1p 62g BIM 1278|   2019 AG. XALOSTOC|    ESTADO DE MÉXICO|  VILLA DE ARAGON|                 NaN|             NaN|\n",
      "|499779|    10|      4037|       1|    5521|   1388998|      32303|2019-03-10|Bigotes Chocolate...|2499 REYNOSA MARI...|          TAMAULIPAS|           ANABEL|                 NaN|             NaN|\n",
      "|499780|    10|      1126|       1|    1217|   2279942|      41938|2019-03-10|Mantecadas Nuez 1...|2017 AG. SANTA CLARA|    ESTADO DE MÉXICO| MARIA DEL CARMEN|    2050 AG. MIXCOAC|    MÉXICO, D.F.|\n",
      "|499781|    10|      3217|       1|    2105|    970287|      32937|2019-03-10|Plativolos 10p 92...|2032 AG. SANTA LUCIA|        MÉXICO, D.F.|       LA EMPRESA|                 NaN|             NaN|\n",
      "|499782|    10|      4017|       4|    4712|     10747|      36537|2019-03-10|Napi Duo 2p 50g M...|2481 WONDER GUERRERO|          NUEVO LEÓN|   OXXO P  ESPAÑA|                 NaN|             NaN|\n",
      "|499782|    10|      4017|       4|    4712|     10747|      36537|2019-03-10|Napi Duo 2p 50g M...|2481 WONDER GUERRERO|          NUEVO LEÓN|    OXXO P ESPAÑA|                 NaN|             NaN|\n",
      "|499783|    10|      1347|       1|    5005|   1054746|      43040|2019-03-10|Doraditas 110g MT...|2251 AGUASCALIENT...|      AGUASCALIENTES|            AMIGO|                 NaN|             NaN|\n",
      "+------+------+----------+--------+--------+----------+-----------+----------+--------------------+--------------------+--------------------+-----------------+--------------------+----------------+\n",
      "only showing top 20 rows\n",
      "\n"
     ]
    }
   ],
   "source": [
    "# Configurar conexión para lectura de tabla en PostgreSQL.\n",
    "df = spark.read \\\n",
    "    .format('jdbc') \\\n",
    "    .option('driver', properties['driver']) \\\n",
    "    .option('url', properties['url']) \\\n",
    "    .option('user', properties['user']) \\\n",
    "    .option('password', properties['password']) \\\n",
    "    .option('dbtable', properties['dbtable']) \\\n",
    "    .load()\n",
    "\n",
    "# Prueba de carga de datos.\n",
    "df.show()"
   ]
  },
  {
   "cell_type": "code",
   "execution_count": 5,
   "metadata": {},
   "outputs": [],
   "source": [
    "#read the dataset\n",
    "#df=spark.read.csv('BimboDataSet.csv',inferSchema=True,header=True)#.limit(10000)"
   ]
  },
  {
   "cell_type": "markdown",
   "metadata": {},
   "source": [
    "### Parte 2 - Llevar a cabo un analisis exploratorio de los datos."
   ]
  },
  {
   "cell_type": "markdown",
   "metadata": {},
   "source": [
    "#### 2.1 - Validar el tamaño en cuanto a filas y columnas del conjunto de datos."
   ]
  },
  {
   "cell_type": "code",
   "execution_count": 7,
   "metadata": {},
   "outputs": [
    {
     "name": "stdout",
     "output_type": "stream",
     "text": [
      "(1008127, 14)\n"
     ]
    }
   ],
   "source": [
    "#check the shape of the data \n",
    "print((df.count(),len(df.columns)))"
   ]
  },
  {
   "cell_type": "markdown",
   "metadata": {},
   "source": [
    "#### 2.2 - Explorar la estrutura del conjunto de datos."
   ]
  },
  {
   "cell_type": "code",
   "execution_count": 8,
   "metadata": {},
   "outputs": [
    {
     "name": "stdout",
     "output_type": "stream",
     "text": [
      "root\n",
      " |-- id: integer (nullable = true)\n",
      " |-- Semana: integer (nullable = true)\n",
      " |-- Agencia_ID: integer (nullable = true)\n",
      " |-- Canal_ID: integer (nullable = true)\n",
      " |-- Ruta_SAK: integer (nullable = true)\n",
      " |-- Cliente_ID: integer (nullable = true)\n",
      " |-- Producto_ID: integer (nullable = true)\n",
      " |-- Fecha: string (nullable = true)\n",
      " |-- NombreProducto: string (nullable = true)\n",
      " |-- Ciudad: string (nullable = true)\n",
      " |-- Estado: string (nullable = true)\n",
      " |-- NombreCliente: string (nullable = true)\n",
      " |-- Ruta_Ciudad: string (nullable = true)\n",
      " |-- Ruta_Estado: string (nullable = true)\n",
      "\n"
     ]
    }
   ],
   "source": [
    "#printSchema\n",
    "df.printSchema()"
   ]
  },
  {
   "cell_type": "markdown",
   "metadata": {},
   "source": [
    "#### 2.3 - Obtener el nombre de las columnas del conjunto de datos."
   ]
  },
  {
   "cell_type": "code",
   "execution_count": 9,
   "metadata": {},
   "outputs": [
    {
     "data": {
      "text/plain": [
       "['id',\n",
       " 'Semana',\n",
       " 'Agencia_ID',\n",
       " 'Canal_ID',\n",
       " 'Ruta_SAK',\n",
       " 'Cliente_ID',\n",
       " 'Producto_ID',\n",
       " 'Fecha',\n",
       " 'NombreProducto',\n",
       " 'Ciudad',\n",
       " 'Estado',\n",
       " 'NombreCliente',\n",
       " 'Ruta_Ciudad',\n",
       " 'Ruta_Estado']"
      ]
     },
     "execution_count": 9,
     "metadata": {},
     "output_type": "execute_result"
    }
   ],
   "source": [
    "#number of columns in dataset\n",
    "df.columns"
   ]
  },
  {
   "cell_type": "markdown",
   "metadata": {},
   "source": [
    "#### 2.4 - Ver el conjunto de datos en forma de Spark DataFrame."
   ]
  },
  {
   "cell_type": "code",
   "execution_count": 10,
   "metadata": {},
   "outputs": [
    {
     "name": "stdout",
     "output_type": "stream",
     "text": [
      "+------+------+----------+--------+--------+----------+-----------+----------+--------------------+--------------------+--------------------+-----------------+--------------------+----------------+\n",
      "|    id|Semana|Agencia_ID|Canal_ID|Ruta_SAK|Cliente_ID|Producto_ID|     Fecha|      NombreProducto|              Ciudad|              Estado|    NombreCliente|         Ruta_Ciudad|     Ruta_Estado|\n",
      "+------+------+----------+--------+--------+----------+-----------+----------+--------------------+--------------------+--------------------+-----------------+--------------------+----------------+\n",
      "|499765|    10|      1637|       1|    1247|    333336|       4280|2019-03-10|Doraditas 110g TR...|  2367 SAN MARTIN T.|              PUEBLA|          MARIBEL|                 NaN|             NaN|\n",
      "|499766|    11|     23719|       1|    1277|    938151|       2233|2019-03-17|Pan Blanco 640g B...|  2371 TIERRA BLANCA|            VERACRUZ|    TRES HERMANOS|2089 AG. AZCAPOTZ...|    MÉXICO, D.F.|\n",
      "|499767|    10|     22090|       1|    4402|    883099|      37569|2019-03-10|Deliciosas Chocho...|2090 AG. TEPEJI D...|           QUERETARO|             ROSY|                 NaN|             NaN|\n",
      "|499768|    11|      1220|       1|    1418|   1223241|       1064|2019-03-17|Panque Marmol 255...|2048 AG. IXTAPALU...|    ESTADO DE MÉXICO|      SAN JUDITAS|                 NaN|             NaN|\n",
      "|499769|    10|      1555|       1|    2036|   2489901|      43069|2019-03-10|Pinguinos 2p 80g ...| 2562 MEXICALI PLAZA|BAJA CALIFORNIA N...|    PUESTO CARMEN|        2179 URUAPAN|       MICHOACÁN|\n",
      "|499770|    10|      3219|       1|    1649|    425403|      35141|2019-03-10|Super Pan Blanco ...|   2003 AG. COACALCO|    ESTADO DE MÉXICO|      LA ESTRELLA|                 NaN|             NaN|\n",
      "|499771|    10|      2029|       1|    2025|    232521|      43285|2019-03-10|Gansito 1p 50g MT...|2161 IRAPUATO GUA...|          GUANAJUATO|           ROSITA|                 NaN|             NaN|\n",
      "|499772|    10|      1615|       1|    1113|   4470872|       3270|2019-03-10|Conchas Vainilla ...|2358 MARTINEZ DE ...|            VERACRUZ|  NO IDENTIFICADO|  2008 AG. LAGO FILT|    MÉXICO, D.F.|\n",
      "|499773|    10|      2229|       1|    1104|   1144650|      35651|2019-03-10|Madalenas 3p 93g ...|2386 COATZACOALCO...|            VERACRUZ|  ABARROTES ANGEL|                 NaN|             NaN|\n",
      "|499774|    11|      1223|       1|    1172|   2394697|       1277|2019-03-17|Nito Edicion Espe...|2070 AG. XOCHIMIL...|        MÉXICO, D.F.|            JOANA| 2004 AG. CUAUTITLAN|ESTADO DE MÉXICO|\n",
      "|499775|    11|      2032|       1|    2863|   4391397|      43285|2019-03-17|Gansito 1p 50g MT...|2155 CELAYA NORPO...|          GUANAJUATO|  NO IDENTIFICADO|                 NaN|             NaN|\n",
      "|499776|    11|      1445|       1|    2032|    127555|      43307|2019-03-17|Gansito 1p 50g CC...|2479 SANTA CATARI...|          NUEVO LEÓN|       SUPER HUGO|2155 CELAYA NORPO...|      GUANAJUATO|\n",
      "|499777|    10|      1419|       1|    2109|    172688|      35305|2019-03-10|Barritas Fresa 75...|        2467 LINCOLN|          NUEVO LEÓN|SERVICIOS CUMBRES|                 NaN|             NaN|\n",
      "|499778|    10|      1122|       1|    1450|     73434|       1278|2019-03-10|Nito 1p 62g BIM 1278|   2019 AG. XALOSTOC|    ESTADO DE MÉXICO|  VILLA DE ARAGON|                 NaN|             NaN|\n",
      "|499779|    10|      4037|       1|    5521|   1388998|      32303|2019-03-10|Bigotes Chocolate...|2499 REYNOSA MARI...|          TAMAULIPAS|           ANABEL|                 NaN|             NaN|\n",
      "|499780|    10|      1126|       1|    1217|   2279942|      41938|2019-03-10|Mantecadas Nuez 1...|2017 AG. SANTA CLARA|    ESTADO DE MÉXICO| MARIA DEL CARMEN|    2050 AG. MIXCOAC|    MÉXICO, D.F.|\n",
      "|499781|    10|      3217|       1|    2105|    970287|      32937|2019-03-10|Plativolos 10p 92...|2032 AG. SANTA LUCIA|        MÉXICO, D.F.|       LA EMPRESA|                 NaN|             NaN|\n",
      "|499782|    10|      4017|       4|    4712|     10747|      36537|2019-03-10|Napi Duo 2p 50g M...|2481 WONDER GUERRERO|          NUEVO LEÓN|   OXXO P  ESPAÑA|                 NaN|             NaN|\n",
      "|499782|    10|      4017|       4|    4712|     10747|      36537|2019-03-10|Napi Duo 2p 50g M...|2481 WONDER GUERRERO|          NUEVO LEÓN|    OXXO P ESPAÑA|                 NaN|             NaN|\n",
      "|499783|    10|      1347|       1|    5005|   1054746|      43040|2019-03-10|Doraditas 110g MT...|2251 AGUASCALIENT...|      AGUASCALIENTES|            AMIGO|                 NaN|             NaN|\n",
      "+------+------+----------+--------+--------+----------+-----------+----------+--------------------+--------------------+--------------------+-----------------+--------------------+----------------+\n",
      "only showing top 20 rows\n",
      "\n"
     ]
    }
   ],
   "source": [
    "#view the data\n",
    "df.show()"
   ]
  },
  {
   "cell_type": "markdown",
   "metadata": {},
   "source": [
    "#### 2.5 - Hacer la misma visualización anterior, pero esta vez en forma de Pandas DataFrame:"
   ]
  },
  {
   "cell_type": "code",
   "execution_count": 11,
   "metadata": {},
   "outputs": [
    {
     "data": {
      "text/html": [
       "<div>\n",
       "<style scoped>\n",
       "    .dataframe tbody tr th:only-of-type {\n",
       "        vertical-align: middle;\n",
       "    }\n",
       "\n",
       "    .dataframe tbody tr th {\n",
       "        vertical-align: top;\n",
       "    }\n",
       "\n",
       "    .dataframe thead th {\n",
       "        text-align: right;\n",
       "    }\n",
       "</style>\n",
       "<table border=\"1\" class=\"dataframe\">\n",
       "  <thead>\n",
       "    <tr style=\"text-align: right;\">\n",
       "      <th></th>\n",
       "      <th>id</th>\n",
       "      <th>Semana</th>\n",
       "      <th>Agencia_ID</th>\n",
       "      <th>Canal_ID</th>\n",
       "      <th>Ruta_SAK</th>\n",
       "      <th>Cliente_ID</th>\n",
       "      <th>Producto_ID</th>\n",
       "      <th>Fecha</th>\n",
       "      <th>NombreProducto</th>\n",
       "      <th>Ciudad</th>\n",
       "      <th>Estado</th>\n",
       "      <th>NombreCliente</th>\n",
       "      <th>Ruta_Ciudad</th>\n",
       "      <th>Ruta_Estado</th>\n",
       "    </tr>\n",
       "  </thead>\n",
       "  <tbody>\n",
       "    <tr>\n",
       "      <th>0</th>\n",
       "      <td>499765</td>\n",
       "      <td>10</td>\n",
       "      <td>1637</td>\n",
       "      <td>1</td>\n",
       "      <td>1247</td>\n",
       "      <td>333336</td>\n",
       "      <td>4280</td>\n",
       "      <td>2019-03-10</td>\n",
       "      <td>Doraditas 110g TR 4280</td>\n",
       "      <td>2367 SAN MARTIN T.</td>\n",
       "      <td>PUEBLA</td>\n",
       "      <td>MARIBEL</td>\n",
       "      <td>NaN</td>\n",
       "      <td>NaN</td>\n",
       "    </tr>\n",
       "    <tr>\n",
       "      <th>1</th>\n",
       "      <td>499766</td>\n",
       "      <td>11</td>\n",
       "      <td>23719</td>\n",
       "      <td>1</td>\n",
       "      <td>1277</td>\n",
       "      <td>938151</td>\n",
       "      <td>2233</td>\n",
       "      <td>2019-03-17</td>\n",
       "      <td>Pan Blanco 640g BIM 2233</td>\n",
       "      <td>2371 TIERRA BLANCA</td>\n",
       "      <td>VERACRUZ</td>\n",
       "      <td>TRES HERMANOS</td>\n",
       "      <td>2089 AG. AZCAPOTZALCO INSTITUCIONALES</td>\n",
       "      <td>MÉXICO, D.F.</td>\n",
       "    </tr>\n",
       "    <tr>\n",
       "      <th>2</th>\n",
       "      <td>499767</td>\n",
       "      <td>10</td>\n",
       "      <td>22090</td>\n",
       "      <td>1</td>\n",
       "      <td>4402</td>\n",
       "      <td>883099</td>\n",
       "      <td>37569</td>\n",
       "      <td>2019-03-10</td>\n",
       "      <td>Deliciosas Chochochispas 204gPromMTA LAR 37569</td>\n",
       "      <td>2090 AG. TEPEJI DEL RIO</td>\n",
       "      <td>QUERETARO</td>\n",
       "      <td>ROSY</td>\n",
       "      <td>NaN</td>\n",
       "      <td>NaN</td>\n",
       "    </tr>\n",
       "    <tr>\n",
       "      <th>3</th>\n",
       "      <td>499768</td>\n",
       "      <td>11</td>\n",
       "      <td>1220</td>\n",
       "      <td>1</td>\n",
       "      <td>1418</td>\n",
       "      <td>1223241</td>\n",
       "      <td>1064</td>\n",
       "      <td>2019-03-17</td>\n",
       "      <td>Panque Marmol 255g BIM 1064</td>\n",
       "      <td>2048 AG. IXTAPALUCA 1</td>\n",
       "      <td>ESTADO DE MÉXICO</td>\n",
       "      <td>SAN JUDITAS</td>\n",
       "      <td>NaN</td>\n",
       "      <td>NaN</td>\n",
       "    </tr>\n",
       "    <tr>\n",
       "      <th>4</th>\n",
       "      <td>499769</td>\n",
       "      <td>10</td>\n",
       "      <td>1555</td>\n",
       "      <td>1</td>\n",
       "      <td>2036</td>\n",
       "      <td>2489901</td>\n",
       "      <td>43069</td>\n",
       "      <td>2019-03-10</td>\n",
       "      <td>Pinguinos 2p 80g MTA MLA 43069</td>\n",
       "      <td>2562 MEXICALI PLAZA</td>\n",
       "      <td>BAJA CALIFORNIA NORTE</td>\n",
       "      <td>PUESTO CARMEN</td>\n",
       "      <td>2179 URUAPAN</td>\n",
       "      <td>MICHOACÁN</td>\n",
       "    </tr>\n",
       "  </tbody>\n",
       "</table>\n",
       "</div>"
      ],
      "text/plain": [
       "       id  Semana  Agencia_ID  Canal_ID  Ruta_SAK  Cliente_ID  Producto_ID  \\\n",
       "0  499765      10        1637         1      1247      333336         4280   \n",
       "1  499766      11       23719         1      1277      938151         2233   \n",
       "2  499767      10       22090         1      4402      883099        37569   \n",
       "3  499768      11        1220         1      1418     1223241         1064   \n",
       "4  499769      10        1555         1      2036     2489901        43069   \n",
       "\n",
       "        Fecha                                  NombreProducto  \\\n",
       "0  2019-03-10                          Doraditas 110g TR 4280   \n",
       "1  2019-03-17                        Pan Blanco 640g BIM 2233   \n",
       "2  2019-03-10  Deliciosas Chochochispas 204gPromMTA LAR 37569   \n",
       "3  2019-03-17                     Panque Marmol 255g BIM 1064   \n",
       "4  2019-03-10                  Pinguinos 2p 80g MTA MLA 43069   \n",
       "\n",
       "                    Ciudad                 Estado  NombreCliente  \\\n",
       "0       2367 SAN MARTIN T.                 PUEBLA        MARIBEL   \n",
       "1       2371 TIERRA BLANCA               VERACRUZ  TRES HERMANOS   \n",
       "2  2090 AG. TEPEJI DEL RIO              QUERETARO           ROSY   \n",
       "3    2048 AG. IXTAPALUCA 1       ESTADO DE MÉXICO    SAN JUDITAS   \n",
       "4      2562 MEXICALI PLAZA  BAJA CALIFORNIA NORTE  PUESTO CARMEN   \n",
       "\n",
       "                             Ruta_Ciudad   Ruta_Estado  \n",
       "0                                    NaN           NaN  \n",
       "1  2089 AG. AZCAPOTZALCO INSTITUCIONALES  MÉXICO, D.F.  \n",
       "2                                    NaN           NaN  \n",
       "3                                    NaN           NaN  \n",
       "4                           2179 URUAPAN     MICHOACÁN  "
      ]
     },
     "execution_count": 11,
     "metadata": {},
     "output_type": "execute_result"
    }
   ],
   "source": [
    "df.limit(5).toPandas().head()"
   ]
  },
  {
   "cell_type": "markdown",
   "metadata": {},
   "source": [
    "#### 2.6 - Ejecutar un análisis estadístico de los datos."
   ]
  },
  {
   "cell_type": "code",
   "execution_count": 12,
   "metadata": {},
   "outputs": [
    {
     "name": "stdout",
     "output_type": "stream",
     "text": [
      "+-------+-----------------+-------------------+-----------------+------------------+------------------+------------------+------------------+----------+--------------------+-----------------+--------------+-----------------+-----------------+--------------------+\n",
      "|summary|               id|             Semana|       Agencia_ID|          Canal_ID|          Ruta_SAK|        Cliente_ID|       Producto_ID|     Fecha|      NombreProducto|           Ciudad|        Estado|    NombreCliente|      Ruta_Ciudad|         Ruta_Estado|\n",
      "+-------+-----------------+-------------------+-----------------+------------------+------------------+------------------+------------------+----------+--------------------+-----------------+--------------+-----------------+-----------------+--------------------+\n",
      "|  count|          1008127|            1008127|          1008127|           1008127|           1008127|           1008127|           1008127|   1008127|             1008127|          1008127|       1008127|          1008127|          1008127|             1008127|\n",
      "|   mean|499988.5316790444| 10.493924872560699|2504.041875676378|1.4088086124069685|  2142.46841717363|1811356.2763838286|22155.227077540825|      null|                null|             null|          null|145232.8592964824|              NaN|                 NaN|\n",
      "| stddev|288675.9405540746|0.49996333943086463| 4009.78854507338|1.5242704309091843|1505.4331598842857|  3383371.33329085|18697.613215356985|      null|                null|             null|          null| 1355937.08183812|              NaN|                 NaN|\n",
      "|    min|                0|                 10|             1110|                 1|                 1|                26|                53|2019-03-10|100pct Whole Whea...|2001 AG. ATIZAPAN|AGUASCALIENTES|          0RLANDO|2001 AG. ATIZAPAN|BAJA CALIFORNIA N...|\n",
      "|    max|           999999|                 11|            25759|                11|              9950|        2015152015|             49997|2019-03-17|Wonder 100pct med...|3216 NUEVO LAREDO|     ZACATECAS|             ÑOÑO|              NaN|             YUCATÁN|\n",
      "+-------+-----------------+-------------------+-----------------+------------------+------------------+------------------+------------------+----------+--------------------+-----------------+--------------+-----------------+-----------------+--------------------+\n",
      "\n"
     ]
    }
   ],
   "source": [
    "#Exploratory Data Analysis\n",
    "df.describe().show()"
   ]
  },
  {
   "cell_type": "markdown",
   "metadata": {},
   "source": [
    "### Parte 3 - Llevar a cabo la transforamción de los datos."
   ]
  },
  {
   "cell_type": "markdown",
   "metadata": {},
   "source": [
    "#### 3.1 - Importar \"VectorAssembler\" para crear un único vector de features y clase."
   ]
  },
  {
   "cell_type": "code",
   "execution_count": null,
   "metadata": {},
   "outputs": [],
   "source": [
    "from pyspark.ml.feature import VectorAssembler"
   ]
  },
  {
   "cell_type": "markdown",
   "metadata": {},
   "source": [
    "#### 3.2 - Vaidar de nuevo el conjunto de datos."
   ]
  },
  {
   "cell_type": "code",
   "execution_count": 14,
   "metadata": {},
   "outputs": [
    {
     "data": {
      "text/plain": [
       "['id',\n",
       " 'Semana',\n",
       " 'Agencia_ID',\n",
       " 'Canal_ID',\n",
       " 'Ruta_SAK',\n",
       " 'Cliente_ID',\n",
       " 'Producto_ID',\n",
       " 'Fecha',\n",
       " 'NombreProducto',\n",
       " 'Ciudad',\n",
       " 'Estado',\n",
       " 'NombreCliente',\n",
       " 'Ruta_Ciudad',\n",
       " 'Ruta_Estado']"
      ]
     },
     "execution_count": 14,
     "metadata": {},
     "output_type": "execute_result"
    }
   ],
   "source": [
    "df.columns"
   ]
  },
  {
   "cell_type": "markdown",
   "metadata": {},
   "source": [
    "#### 3.3 - Declarar las columnas que vamos a usar en el vector de features y clase."
   ]
  },
  {
   "cell_type": "code",
   "execution_count": 15,
   "metadata": {},
   "outputs": [],
   "source": [
    "features = ( 'id',\n",
    "             'Semana',\n",
    "             'Agencia_ID',\n",
    "             'Canal_ID',\n",
    "             'Ruta_SAK',\n",
    "             'Cliente_ID',\n",
    "             'Producto_ID'\n",
    "           ) "
   ]
  },
  {
   "cell_type": "markdown",
   "metadata": {},
   "source": [
    "#### 3.4 - Construir el vector de features y clase, para ser usado por nuestro modelo de entrenamiento."
   ]
  },
  {
   "cell_type": "code",
   "execution_count": 16,
   "metadata": {},
   "outputs": [],
   "source": [
    "assembler = VectorAssembler(inputCols=features,outputCol=\"features\")"
   ]
  },
  {
   "cell_type": "markdown",
   "metadata": {},
   "source": [
    "#### 3.5 - Revisar el conjunto de datos en el vector."
   ]
  },
  {
   "cell_type": "code",
   "execution_count": 18,
   "metadata": {},
   "outputs": [
    {
     "name": "stdout",
     "output_type": "stream",
     "text": [
      "root\n",
      " |-- id: integer (nullable = true)\n",
      " |-- Semana: integer (nullable = true)\n",
      " |-- Agencia_ID: integer (nullable = true)\n",
      " |-- Canal_ID: integer (nullable = true)\n",
      " |-- Ruta_SAK: integer (nullable = true)\n",
      " |-- Cliente_ID: integer (nullable = true)\n",
      " |-- Producto_ID: integer (nullable = true)\n",
      " |-- Fecha: string (nullable = true)\n",
      " |-- NombreProducto: string (nullable = true)\n",
      " |-- Ciudad: string (nullable = true)\n",
      " |-- Estado: string (nullable = true)\n",
      " |-- NombreCliente: string (nullable = true)\n",
      " |-- Ruta_Ciudad: string (nullable = true)\n",
      " |-- Ruta_Estado: string (nullable = true)\n",
      " |-- features: vector (nullable = true)\n",
      "\n"
     ]
    }
   ],
   "source": [
    "dataset=assembler.transform(df)\n",
    "dataset.printSchema()"
   ]
  },
  {
   "cell_type": "markdown",
   "metadata": {},
   "source": [
    "### Parte 4 - Contruir el modelo de aprendizaje automático."
   ]
  },
  {
   "cell_type": "markdown",
   "metadata": {},
   "source": [
    "#### 4.1 - Importar las librerías para el Modelo de KMeans."
   ]
  },
  {
   "cell_type": "code",
   "execution_count": 19,
   "metadata": {},
   "outputs": [],
   "source": [
    "from pyspark.ml.evaluation import ClusteringEvaluator\n",
    "from pyspark.ml.clustering import KMeans"
   ]
  },
  {
   "cell_type": "markdown",
   "metadata": {},
   "source": [
    "#### 4.2 - Entrenar el modelo con los Hyper-Parámetros de SetK y SetSeed."
   ]
  },
  {
   "cell_type": "code",
   "execution_count": 20,
   "metadata": {},
   "outputs": [],
   "source": [
    "# Trains a k-means model.\n",
    "kmeans = KMeans().setK(15).setSeed(250)\n",
    "model = kmeans.fit(dataset)"
   ]
  },
  {
   "cell_type": "markdown",
   "metadata": {},
   "source": [
    "#### 4.3 - Hacer las predicciones."
   ]
  },
  {
   "cell_type": "code",
   "execution_count": 21,
   "metadata": {},
   "outputs": [],
   "source": [
    "# Make predictions\n",
    "predictions = model.transform(dataset)"
   ]
  },
  {
   "cell_type": "markdown",
   "metadata": {},
   "source": [
    "#### 4.4 - Evaluar el modelo ya ejecutado."
   ]
  },
  {
   "cell_type": "code",
   "execution_count": 22,
   "metadata": {},
   "outputs": [],
   "source": [
    "# Evaluate clustering by computing Silhouette score\n",
    "evaluator = ClusteringEvaluator()"
   ]
  },
  {
   "cell_type": "markdown",
   "metadata": {},
   "source": [
    "#### 4.5 - Validar la distancia euclideana."
   ]
  },
  {
   "cell_type": "code",
   "execution_count": 23,
   "metadata": {},
   "outputs": [
    {
     "name": "stdout",
     "output_type": "stream",
     "text": [
      "Silhouette with squared euclidean distance = 0.5737130612965955\n"
     ]
    }
   ],
   "source": [
    "silhouette = evaluator.evaluate(predictions)\n",
    "print(\"Silhouette with squared euclidean distance = \" + str(silhouette))"
   ]
  },
  {
   "cell_type": "markdown",
   "metadata": {},
   "source": [
    "#### 4.6 - Validar el costo de computo, basado en los errores."
   ]
  },
  {
   "cell_type": "code",
   "execution_count": 24,
   "metadata": {},
   "outputs": [
    {
     "name": "stdout",
     "output_type": "stream",
     "text": [
      "Within Set Sum of Squared Errors = 5.868214260504297e+16\n"
     ]
    }
   ],
   "source": [
    "# Evaluate clustering.\n",
    "cost = model.computeCost(dataset)\n",
    "print(\"Within Set Sum of Squared Errors = \" + str(cost))"
   ]
  },
  {
   "cell_type": "markdown",
   "metadata": {},
   "source": [
    "#### 4.7 - Obtener los centroides."
   ]
  },
  {
   "cell_type": "code",
   "execution_count": 25,
   "metadata": {
    "scrolled": true
   },
   "outputs": [
    {
     "name": "stdout",
     "output_type": "stream",
     "text": [
      "Cluster Centers: \n",
      "[2.39903381e+05 1.04946633e+01 2.45139936e+03 1.34064621e+00\n",
      " 2.08034585e+03 8.94117003e+05 2.19312758e+04]\n",
      "[4.50829000e+05 1.00000000e+01 2.23620000e+04 1.00000000e+00\n",
      " 9.00000000e+02 2.01515202e+09 1.19000000e+03]\n",
      "[2.50064521e+05 1.04947894e+01 2.59262516e+03 1.55519184e+00\n",
      " 2.31548042e+03 4.43955665e+06 2.22736343e+04]\n",
      "[2.51038268e+05 1.04975850e+01 2.73197865e+03 1.46319552e+00\n",
      " 2.27206936e+03 7.94577430e+06 2.36616835e+04]\n",
      "[7.66979182e+05 1.04950189e+01 2.56320062e+03 1.58594805e+00\n",
      " 2.30839166e+03 2.15906936e+06 2.21924374e+04]\n",
      "[4.95318606e+05 1.04711929e+01 2.44563159e+03 1.74033000e+00\n",
      " 2.62444874e+03 9.60288860e+06 2.26312810e+04]\n",
      "[7.49968288e+05 1.04921040e+01 2.57294927e+03 1.56069028e+00\n",
      " 2.30998907e+03 4.43677745e+06 2.21840413e+04]\n",
      "[7.53672911e+05 1.04952510e+01 2.47987500e+03 1.42879095e+00\n",
      " 2.15943867e+03 1.29063257e+06 2.21036751e+04]\n",
      "[7.18024170e+05 1.04916916e+01 2.47010054e+03 1.21509564e+00\n",
      " 1.94217316e+03 6.18927733e+05 2.17964960e+04]\n",
      "[2.41342670e+05 1.04954527e+01 2.44914188e+03 1.24323048e+00\n",
      " 1.97043532e+03 2.35613054e+05 2.21516974e+04]\n",
      "[2.65300030e+05 1.04943407e+01 2.57535074e+03 1.62868822e+00\n",
      " 2.34279285e+03 2.27895647e+06 2.20684398e+04]\n",
      "[7.48827754e+05 1.04942987e+01 2.40248205e+03 1.28726422e+00\n",
      " 2.01484709e+03 1.78179033e+05 2.22811557e+04]\n",
      "[5.07978386e+05 1.04929980e+01 2.35831438e+03 1.54244070e+00\n",
      " 2.24590026e+03 6.07545953e+06 1.96048605e+04]\n",
      "[7.48322433e+05 1.04925642e+01 2.81359487e+03 1.41110164e+00\n",
      " 2.23728076e+03 7.95056474e+06 2.34216382e+04]\n",
      "[2.93604970e+05 1.04907635e+01 2.53892511e+03 1.46960865e+00\n",
      " 2.18413966e+03 1.62365473e+06 2.22476001e+04]\n"
     ]
    }
   ],
   "source": [
    "# Shows the result.\n",
    "print(\"Cluster Centers: \")\n",
    "ctr=[]\n",
    "centers = model.clusterCenters()\n",
    "for center in centers:\n",
    "    ctr.append(center)\n",
    "    print(center)"
   ]
  },
  {
   "cell_type": "markdown",
   "metadata": {},
   "source": [
    "### Parte 5 - Visualizar los valores obtenidos."
   ]
  },
  {
   "cell_type": "markdown",
   "metadata": {},
   "source": [
    "#### 5.1 - Importamos la librería de Pandas."
   ]
  },
  {
   "cell_type": "code",
   "execution_count": 26,
   "metadata": {},
   "outputs": [],
   "source": [
    "import pandas as pd"
   ]
  },
  {
   "cell_type": "markdown",
   "metadata": {},
   "source": [
    "#### 5.2 - Guardar los datos del modelo."
   ]
  },
  {
   "cell_type": "code",
   "execution_count": 27,
   "metadata": {},
   "outputs": [],
   "source": [
    "centers = pd.DataFrame(ctr,columns=features)"
   ]
  },
  {
   "cell_type": "markdown",
   "metadata": {},
   "source": [
    "#### 5.3 - Ver los centroides."
   ]
  },
  {
   "cell_type": "code",
   "execution_count": 28,
   "metadata": {},
   "outputs": [
    {
     "data": {
      "text/html": [
       "<div>\n",
       "<style scoped>\n",
       "    .dataframe tbody tr th:only-of-type {\n",
       "        vertical-align: middle;\n",
       "    }\n",
       "\n",
       "    .dataframe tbody tr th {\n",
       "        vertical-align: top;\n",
       "    }\n",
       "\n",
       "    .dataframe thead th {\n",
       "        text-align: right;\n",
       "    }\n",
       "</style>\n",
       "<table border=\"1\" class=\"dataframe\">\n",
       "  <thead>\n",
       "    <tr style=\"text-align: right;\">\n",
       "      <th></th>\n",
       "      <th>id</th>\n",
       "      <th>Semana</th>\n",
       "      <th>Agencia_ID</th>\n",
       "      <th>Canal_ID</th>\n",
       "      <th>Ruta_SAK</th>\n",
       "      <th>Cliente_ID</th>\n",
       "      <th>Producto_ID</th>\n",
       "    </tr>\n",
       "  </thead>\n",
       "  <tbody>\n",
       "    <tr>\n",
       "      <th>0</th>\n",
       "      <td>239903.381143</td>\n",
       "      <td>10.494663</td>\n",
       "      <td>2451.399362</td>\n",
       "      <td>1.340646</td>\n",
       "      <td>2080.345850</td>\n",
       "      <td>8.941170e+05</td>\n",
       "      <td>21931.275760</td>\n",
       "    </tr>\n",
       "    <tr>\n",
       "      <th>1</th>\n",
       "      <td>450829.000000</td>\n",
       "      <td>10.000000</td>\n",
       "      <td>22362.000000</td>\n",
       "      <td>1.000000</td>\n",
       "      <td>900.000000</td>\n",
       "      <td>2.015152e+09</td>\n",
       "      <td>1190.000000</td>\n",
       "    </tr>\n",
       "    <tr>\n",
       "      <th>2</th>\n",
       "      <td>250064.520504</td>\n",
       "      <td>10.494789</td>\n",
       "      <td>2592.625157</td>\n",
       "      <td>1.555192</td>\n",
       "      <td>2315.480419</td>\n",
       "      <td>4.439557e+06</td>\n",
       "      <td>22273.634280</td>\n",
       "    </tr>\n",
       "    <tr>\n",
       "      <th>3</th>\n",
       "      <td>251038.267871</td>\n",
       "      <td>10.497585</td>\n",
       "      <td>2731.978651</td>\n",
       "      <td>1.463196</td>\n",
       "      <td>2272.069359</td>\n",
       "      <td>7.945774e+06</td>\n",
       "      <td>23661.683539</td>\n",
       "    </tr>\n",
       "    <tr>\n",
       "      <th>4</th>\n",
       "      <td>766979.181975</td>\n",
       "      <td>10.495019</td>\n",
       "      <td>2563.200619</td>\n",
       "      <td>1.585948</td>\n",
       "      <td>2308.391660</td>\n",
       "      <td>2.159069e+06</td>\n",
       "      <td>22192.437433</td>\n",
       "    </tr>\n",
       "    <tr>\n",
       "      <th>5</th>\n",
       "      <td>495318.606167</td>\n",
       "      <td>10.471193</td>\n",
       "      <td>2445.631593</td>\n",
       "      <td>1.740330</td>\n",
       "      <td>2624.448742</td>\n",
       "      <td>9.602889e+06</td>\n",
       "      <td>22631.281039</td>\n",
       "    </tr>\n",
       "    <tr>\n",
       "      <th>6</th>\n",
       "      <td>749968.287519</td>\n",
       "      <td>10.492104</td>\n",
       "      <td>2572.949274</td>\n",
       "      <td>1.560690</td>\n",
       "      <td>2309.989066</td>\n",
       "      <td>4.436777e+06</td>\n",
       "      <td>22184.041333</td>\n",
       "    </tr>\n",
       "    <tr>\n",
       "      <th>7</th>\n",
       "      <td>753672.910954</td>\n",
       "      <td>10.495251</td>\n",
       "      <td>2479.875002</td>\n",
       "      <td>1.428791</td>\n",
       "      <td>2159.438673</td>\n",
       "      <td>1.290633e+06</td>\n",
       "      <td>22103.675052</td>\n",
       "    </tr>\n",
       "    <tr>\n",
       "      <th>8</th>\n",
       "      <td>718024.169729</td>\n",
       "      <td>10.491692</td>\n",
       "      <td>2470.100537</td>\n",
       "      <td>1.215096</td>\n",
       "      <td>1942.173162</td>\n",
       "      <td>6.189277e+05</td>\n",
       "      <td>21796.496004</td>\n",
       "    </tr>\n",
       "    <tr>\n",
       "      <th>9</th>\n",
       "      <td>241342.670043</td>\n",
       "      <td>10.495453</td>\n",
       "      <td>2449.141875</td>\n",
       "      <td>1.243230</td>\n",
       "      <td>1970.435320</td>\n",
       "      <td>2.356131e+05</td>\n",
       "      <td>22151.697382</td>\n",
       "    </tr>\n",
       "    <tr>\n",
       "      <th>10</th>\n",
       "      <td>265300.030424</td>\n",
       "      <td>10.494341</td>\n",
       "      <td>2575.350744</td>\n",
       "      <td>1.628688</td>\n",
       "      <td>2342.792852</td>\n",
       "      <td>2.278956e+06</td>\n",
       "      <td>22068.439805</td>\n",
       "    </tr>\n",
       "    <tr>\n",
       "      <th>11</th>\n",
       "      <td>748827.754077</td>\n",
       "      <td>10.494299</td>\n",
       "      <td>2402.482045</td>\n",
       "      <td>1.287264</td>\n",
       "      <td>2014.847086</td>\n",
       "      <td>1.781790e+05</td>\n",
       "      <td>22281.155687</td>\n",
       "    </tr>\n",
       "    <tr>\n",
       "      <th>12</th>\n",
       "      <td>507978.386110</td>\n",
       "      <td>10.492998</td>\n",
       "      <td>2358.314376</td>\n",
       "      <td>1.542441</td>\n",
       "      <td>2245.900257</td>\n",
       "      <td>6.075460e+06</td>\n",
       "      <td>19604.860532</td>\n",
       "    </tr>\n",
       "    <tr>\n",
       "      <th>13</th>\n",
       "      <td>748322.432699</td>\n",
       "      <td>10.492564</td>\n",
       "      <td>2813.594866</td>\n",
       "      <td>1.411102</td>\n",
       "      <td>2237.280762</td>\n",
       "      <td>7.950565e+06</td>\n",
       "      <td>23421.638250</td>\n",
       "    </tr>\n",
       "    <tr>\n",
       "      <th>14</th>\n",
       "      <td>293604.970293</td>\n",
       "      <td>10.490764</td>\n",
       "      <td>2538.925109</td>\n",
       "      <td>1.469609</td>\n",
       "      <td>2184.139655</td>\n",
       "      <td>1.623655e+06</td>\n",
       "      <td>22247.600082</td>\n",
       "    </tr>\n",
       "  </tbody>\n",
       "</table>\n",
       "</div>"
      ],
      "text/plain": [
       "               id     Semana    Agencia_ID  Canal_ID     Ruta_SAK  \\\n",
       "0   239903.381143  10.494663   2451.399362  1.340646  2080.345850   \n",
       "1   450829.000000  10.000000  22362.000000  1.000000   900.000000   \n",
       "2   250064.520504  10.494789   2592.625157  1.555192  2315.480419   \n",
       "3   251038.267871  10.497585   2731.978651  1.463196  2272.069359   \n",
       "4   766979.181975  10.495019   2563.200619  1.585948  2308.391660   \n",
       "5   495318.606167  10.471193   2445.631593  1.740330  2624.448742   \n",
       "6   749968.287519  10.492104   2572.949274  1.560690  2309.989066   \n",
       "7   753672.910954  10.495251   2479.875002  1.428791  2159.438673   \n",
       "8   718024.169729  10.491692   2470.100537  1.215096  1942.173162   \n",
       "9   241342.670043  10.495453   2449.141875  1.243230  1970.435320   \n",
       "10  265300.030424  10.494341   2575.350744  1.628688  2342.792852   \n",
       "11  748827.754077  10.494299   2402.482045  1.287264  2014.847086   \n",
       "12  507978.386110  10.492998   2358.314376  1.542441  2245.900257   \n",
       "13  748322.432699  10.492564   2813.594866  1.411102  2237.280762   \n",
       "14  293604.970293  10.490764   2538.925109  1.469609  2184.139655   \n",
       "\n",
       "      Cliente_ID   Producto_ID  \n",
       "0   8.941170e+05  21931.275760  \n",
       "1   2.015152e+09   1190.000000  \n",
       "2   4.439557e+06  22273.634280  \n",
       "3   7.945774e+06  23661.683539  \n",
       "4   2.159069e+06  22192.437433  \n",
       "5   9.602889e+06  22631.281039  \n",
       "6   4.436777e+06  22184.041333  \n",
       "7   1.290633e+06  22103.675052  \n",
       "8   6.189277e+05  21796.496004  \n",
       "9   2.356131e+05  22151.697382  \n",
       "10  2.278956e+06  22068.439805  \n",
       "11  1.781790e+05  22281.155687  \n",
       "12  6.075460e+06  19604.860532  \n",
       "13  7.950565e+06  23421.638250  \n",
       "14  1.623655e+06  22247.600082  "
      ]
     },
     "execution_count": 28,
     "metadata": {},
     "output_type": "execute_result"
    }
   ],
   "source": [
    "centers"
   ]
  },
  {
   "cell_type": "markdown",
   "metadata": {},
   "source": [
    "#### 5.4 - Ver la cantidad de registros por cada unas de las predicciones."
   ]
  },
  {
   "cell_type": "code",
   "execution_count": 29,
   "metadata": {
    "scrolled": true
   },
   "outputs": [
    {
     "name": "stdout",
     "output_type": "stream",
     "text": [
      "+----------+------+\n",
      "|prediction| count|\n",
      "+----------+------+\n",
      "|        12|  3499|\n",
      "|         1|     2|\n",
      "|        13| 10557|\n",
      "|         6| 92835|\n",
      "|         3| 10352|\n",
      "|         5|  3697|\n",
      "|         9|165389|\n",
      "|         4| 85845|\n",
      "|         8| 92798|\n",
      "|         7| 75596|\n",
      "|        10| 77114|\n",
      "|        11|141665|\n",
      "|        14| 72609|\n",
      "|         2| 93172|\n",
      "|         0| 82997|\n",
      "+----------+------+\n",
      "\n"
     ]
    }
   ],
   "source": [
    "predictions.groupBy('prediction').count().show()"
   ]
  },
  {
   "cell_type": "markdown",
   "metadata": {},
   "source": [
    "#### 5.5 - Ver las predicciones como un conjunto de datos."
   ]
  },
  {
   "cell_type": "code",
   "execution_count": 30,
   "metadata": {
    "scrolled": false
   },
   "outputs": [
    {
     "name": "stdout",
     "output_type": "stream",
     "text": [
      "+------+------+----------+--------+--------+----------+-----------+----------+--------------------+--------------------+--------------------+-----------------+--------------------+----------------+--------------------+----------+\n",
      "|    id|Semana|Agencia_ID|Canal_ID|Ruta_SAK|Cliente_ID|Producto_ID|     Fecha|      NombreProducto|              Ciudad|              Estado|    NombreCliente|         Ruta_Ciudad|     Ruta_Estado|            features|prediction|\n",
      "+------+------+----------+--------+--------+----------+-----------+----------+--------------------+--------------------+--------------------+-----------------+--------------------+----------------+--------------------+----------+\n",
      "|499765|    10|      1637|       1|    1247|    333336|       4280|2019-03-10|Doraditas 110g TR...|  2367 SAN MARTIN T.|              PUEBLA|          MARIBEL|                 NaN|             NaN|[499765.0,10.0,16...|         9|\n",
      "|499766|    11|     23719|       1|    1277|    938151|       2233|2019-03-17|Pan Blanco 640g B...|  2371 TIERRA BLANCA|            VERACRUZ|    TRES HERMANOS|2089 AG. AZCAPOTZ...|    MÉXICO, D.F.|[499766.0,11.0,23...|         0|\n",
      "|499767|    10|     22090|       1|    4402|    883099|      37569|2019-03-10|Deliciosas Chocho...|2090 AG. TEPEJI D...|           QUERETARO|             ROSY|                 NaN|             NaN|[499767.0,10.0,22...|         0|\n",
      "|499768|    11|      1220|       1|    1418|   1223241|       1064|2019-03-17|Panque Marmol 255...|2048 AG. IXTAPALU...|    ESTADO DE MÉXICO|      SAN JUDITAS|                 NaN|             NaN|[499768.0,11.0,12...|         7|\n",
      "|499769|    10|      1555|       1|    2036|   2489901|      43069|2019-03-10|Pinguinos 2p 80g ...| 2562 MEXICALI PLAZA|BAJA CALIFORNIA N...|    PUESTO CARMEN|        2179 URUAPAN|       MICHOACÁN|[499769.0,10.0,15...|        10|\n",
      "|499770|    10|      3219|       1|    1649|    425403|      35141|2019-03-10|Super Pan Blanco ...|   2003 AG. COACALCO|    ESTADO DE MÉXICO|      LA ESTRELLA|                 NaN|             NaN|[499770.0,10.0,32...|         8|\n",
      "|499771|    10|      2029|       1|    2025|    232521|      43285|2019-03-10|Gansito 1p 50g MT...|2161 IRAPUATO GUA...|          GUANAJUATO|           ROSITA|                 NaN|             NaN|[499771.0,10.0,20...|        11|\n",
      "|499772|    10|      1615|       1|    1113|   4470872|       3270|2019-03-10|Conchas Vainilla ...|2358 MARTINEZ DE ...|            VERACRUZ|  NO IDENTIFICADO|  2008 AG. LAGO FILT|    MÉXICO, D.F.|[499772.0,10.0,16...|         2|\n",
      "|499773|    10|      2229|       1|    1104|   1144650|      35651|2019-03-10|Madalenas 3p 93g ...|2386 COATZACOALCO...|            VERACRUZ|  ABARROTES ANGEL|                 NaN|             NaN|[499773.0,10.0,22...|         7|\n",
      "|499774|    11|      1223|       1|    1172|   2394697|       1277|2019-03-17|Nito Edicion Espe...|2070 AG. XOCHIMIL...|        MÉXICO, D.F.|            JOANA| 2004 AG. CUAUTITLAN|ESTADO DE MÉXICO|[499774.0,11.0,12...|        10|\n",
      "|499775|    11|      2032|       1|    2863|   4391397|      43285|2019-03-17|Gansito 1p 50g MT...|2155 CELAYA NORPO...|          GUANAJUATO|  NO IDENTIFICADO|                 NaN|             NaN|[499775.0,11.0,20...|         6|\n",
      "|499776|    11|      1445|       1|    2032|    127555|      43307|2019-03-17|Gansito 1p 50g CC...|2479 SANTA CATARI...|          NUEVO LEÓN|       SUPER HUGO|2155 CELAYA NORPO...|      GUANAJUATO|[499776.0,11.0,14...|        11|\n",
      "|499777|    10|      1419|       1|    2109|    172688|      35305|2019-03-10|Barritas Fresa 75...|        2467 LINCOLN|          NUEVO LEÓN|SERVICIOS CUMBRES|                 NaN|             NaN|[499777.0,10.0,14...|        11|\n",
      "|499778|    10|      1122|       1|    1450|     73434|       1278|2019-03-10|Nito 1p 62g BIM 1278|   2019 AG. XALOSTOC|    ESTADO DE MÉXICO|  VILLA DE ARAGON|                 NaN|             NaN|[499778.0,10.0,11...|        11|\n",
      "|499779|    10|      4037|       1|    5521|   1388998|      32303|2019-03-10|Bigotes Chocolate...|2499 REYNOSA MARI...|          TAMAULIPAS|           ANABEL|                 NaN|             NaN|[499779.0,10.0,40...|         7|\n",
      "|499780|    10|      1126|       1|    1217|   2279942|      41938|2019-03-10|Mantecadas Nuez 1...|2017 AG. SANTA CLARA|    ESTADO DE MÉXICO| MARIA DEL CARMEN|    2050 AG. MIXCOAC|    MÉXICO, D.F.|[499780.0,10.0,11...|        10|\n",
      "|499781|    10|      3217|       1|    2105|    970287|      32937|2019-03-10|Plativolos 10p 92...|2032 AG. SANTA LUCIA|        MÉXICO, D.F.|       LA EMPRESA|                 NaN|             NaN|[499781.0,10.0,32...|         0|\n",
      "|499782|    10|      4017|       4|    4712|     10747|      36537|2019-03-10|Napi Duo 2p 50g M...|2481 WONDER GUERRERO|          NUEVO LEÓN|   OXXO P  ESPAÑA|                 NaN|             NaN|[499782.0,10.0,40...|        11|\n",
      "|499782|    10|      4017|       4|    4712|     10747|      36537|2019-03-10|Napi Duo 2p 50g M...|2481 WONDER GUERRERO|          NUEVO LEÓN|    OXXO P ESPAÑA|                 NaN|             NaN|[499782.0,10.0,40...|        11|\n",
      "|499783|    10|      1347|       1|    5005|   1054746|      43040|2019-03-10|Doraditas 110g MT...|2251 AGUASCALIENT...|      AGUASCALIENTES|            AMIGO|                 NaN|             NaN|[499783.0,10.0,13...|         0|\n",
      "+------+------+----------+--------+--------+----------+-----------+----------+--------------------+--------------------+--------------------+-----------------+--------------------+----------------+--------------------+----------+\n",
      "only showing top 20 rows\n",
      "\n"
     ]
    }
   ],
   "source": [
    "predictions.show()"
   ]
  },
  {
   "cell_type": "markdown",
   "metadata": {},
   "source": [
    "### Conclusiones"
   ]
  },
  {
   "cell_type": "markdown",
   "metadata": {},
   "source": [
    "Para hacer este modelo, tomamos como base directamente de la documentación de Spark ML ([https://www.bmc.com/blogs/python-spark-k-means-example/](https://www.bmc.com/blogs/python-spark-k-means-example/)) con algunas modificaciones, para poder obtener los datos de PostGreSQL y los Hyper Parámetros necesarios.\n",
    "\n",
    "De la documentación que anteriormente se hizo mensión, se pueden tomar varios puntos:\n",
    "\n",
    "1. KMeans (). SetK (2) .setSeed (1) ⁠: el número 2 es el número de grupos en los que se dividen los datos. Vemos que cualquier número mayor que 2 hace que este valor ClusteringEvaluator () caiga por debajo de 0.5, lo que significa que no es una división clara. Otra forma de verificar el número óptimo de grupos sería trazar una curva de codo (elbow curve).\n",
    "\n",
    "2. predictions = model.transform (conjunto de datos): esto agregará la columna de predicción al marco de datos, para que podamos mostrar qué pacientes califican para cada categoría.\n",
    "\n",
    "El uso de los centros de clúster para cada división, así como la suma de los errores al cuadrado: una manera de explicar cómo funciona es que se calcula la distancia de cada punto de datos desde su suposición hasta el centro del grupo, ajusta las suposiciones y luego repite hasta que el número alcanza su mínimo. La distancia de cada punto desde este punto central se eleva al cuadrado para que la distancia sea siempre positiva.\n",
    "\n",
    "El objetivo es tener el menor número posible, la distancia más corta entre todos los puntos de datos, por lo que un resualtado de 0.5737 está dentro de lo aceptado usando como una base de 15 posible agrupaciones."
   ]
  }
 ],
 "metadata": {
  "kernelspec": {
   "display_name": "Python 3",
   "language": "python",
   "name": "python3"
  },
  "language_info": {
   "codemirror_mode": {
    "name": "ipython",
    "version": 3
   },
   "file_extension": ".py",
   "mimetype": "text/x-python",
   "name": "python",
   "nbconvert_exporter": "python",
   "pygments_lexer": "ipython3",
   "version": "3.7.3"
  }
 },
 "nbformat": 4,
 "nbformat_minor": 2
}
