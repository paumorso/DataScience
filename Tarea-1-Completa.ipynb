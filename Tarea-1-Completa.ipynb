{
 "cells": [
  {
   "cell_type": "code",
   "execution_count": 1,
   "metadata": {},
   "outputs": [],
   "source": [
    "##Importamos librería numpy\n",
    "import numpy as np\n"
   ]
  },
  {
   "cell_type": "code",
   "execution_count": 2,
   "metadata": {},
   "outputs": [],
   "source": [
    "##Importamos librería Panel Data\n",
    "import pandas as pd\n",
    "import os\n"
   ]
  },
  {
   "cell_type": "code",
   "execution_count": 3,
   "metadata": {},
   "outputs": [],
   "source": [
    "##Importamos librería Matplotlib\n",
    "import matplotlib as plt"
   ]
  },
  {
   "cell_type": "code",
   "execution_count": 4,
   "metadata": {},
   "outputs": [],
   "source": [
    "#Importamos librería scikit-learn\n",
    "from sklearn.preprocessing import MinMaxScaler\n",
    "from sklearn import preprocessing\n",
    "\n"
   ]
  },
  {
   "cell_type": "code",
   "execution_count": 5,
   "metadata": {},
   "outputs": [
    {
     "name": "stdout",
     "output_type": "stream",
     "text": [
      "[[20.7]\n",
      " [17.9]\n",
      " [18.8]\n",
      " ...\n",
      " [13.5]\n",
      " [15.7]\n",
      " [13. ]]\n"
     ]
    }
   ],
   "source": [
    "##importar el set de datos \n",
    "dataset = pd.read_csv(\"C:/Users/mgaitan/Documents/DC/daily-min-temperatures.csv\",header=0)\n",
    "dataset = np.array(dataset['Temp']).reshape((len(dataset), 1))\n",
    "print (dataset)"
   ]
  },
  {
   "cell_type": "code",
   "execution_count": 6,
   "metadata": {},
   "outputs": [
    {
     "data": {
      "text/plain": [
       "'C:\\\\Users\\\\mgaitan\\\\Documents'"
      ]
     },
     "execution_count": 6,
     "metadata": {},
     "output_type": "execute_result"
    }
   ],
   "source": [
    "pwd"
   ]
  },
  {
   "cell_type": "code",
   "execution_count": 7,
   "metadata": {
    "scrolled": true
   },
   "outputs": [
    {
     "name": "stdout",
     "output_type": "stream",
     "text": [
      "11.177753424657535\n"
     ]
    }
   ],
   "source": [
    "##calcular la media\n",
    "media_temp = dataset.mean()\n",
    "print (media_temp)"
   ]
  },
  {
   "cell_type": "code",
   "execution_count": 8,
   "metadata": {},
   "outputs": [
    {
     "name": "stdout",
     "output_type": "stream",
     "text": [
      "4.071279075310806\n"
     ]
    }
   ],
   "source": [
    "###Calcular Desviación Estándar\n",
    "desv_temp = dataset.std()\n",
    "print (desv_temp)"
   ]
  },
  {
   "cell_type": "code",
   "execution_count": 9,
   "metadata": {},
   "outputs": [
    {
     "name": "stdout",
     "output_type": "stream",
     "text": [
      "26.3\n"
     ]
    }
   ],
   "source": [
    "### calcular vVdesv_tempalor Máximo\n",
    "Valor_Max = dataset.max()\n",
    "print (Valor_Max)"
   ]
  },
  {
   "cell_type": "code",
   "execution_count": 10,
   "metadata": {},
   "outputs": [
    {
     "name": "stdout",
     "output_type": "stream",
     "text": [
      "0.0\n"
     ]
    }
   ],
   "source": [
    "### calcular Valor Mínimo\n",
    "Valor_Min = dataset.min()\n",
    "print (Valor_Min)"
   ]
  },
  {
   "cell_type": "markdown",
   "metadata": {},
   "source": [
    "Normalizar Manualmente"
   ]
  },
  {
   "cell_type": "code",
   "execution_count": 11,
   "metadata": {},
   "outputs": [
    {
     "name": "stdout",
     "output_type": "stream",
     "text": [
      "Normalización Manual [[0.78707224]\n",
      " [0.68060837]\n",
      " [0.7148289 ]\n",
      " ...\n",
      " [0.51330798]\n",
      " [0.59695817]\n",
      " [0.49429658]]\n"
     ]
    }
   ],
   "source": [
    "nm = (dataset - Valor_Min)/(Valor_Max - Valor_Min)\n",
    "print('Normalización Manual',nm)"
   ]
  },
  {
   "cell_type": "markdown",
   "metadata": {},
   "source": [
    "Estandarizar Manualmente"
   ]
  },
  {
   "cell_type": "code",
   "execution_count": 17,
   "metadata": {
    "scrolled": true
   },
   "outputs": [
    {
     "name": "stdout",
     "output_type": "stream",
     "text": [
      "Estandarización Manual [[2.33888328]\n",
      " [1.65113873]\n",
      " [1.87219948]\n",
      " ...\n",
      " [0.5703973 ]\n",
      " [1.11076801]\n",
      " [0.44758577]]\n"
     ]
    }
   ],
   "source": [
    "em = (dataset - media_temp)/desv_temp\n",
    "print('Estandarización Manual',em)"
   ]
  },
  {
   "cell_type": "code",
   "execution_count": 13,
   "metadata": {},
   "outputs": [
    {
     "name": "stdout",
     "output_type": "stream",
     "text": [
      "[0.78707224]\n",
      "[0.68060837]\n",
      "[0.7148289]\n",
      "[0.55513308]\n",
      "[0.60076046]\n",
      "[0.60076046]\n",
      "[0.60076046]\n",
      "[0.66159696]\n",
      "[0.82889734]\n",
      "[0.76045627]\n",
      "[0.61596958]\n",
      "[0.50570342]\n",
      "[0.63498099]\n",
      "[0.81749049]\n",
      "[0.95057034]\n",
      "[0.78707224]\n",
      "[0.78326996]\n",
      "[0.94296578]\n",
      "[0.6730038]\n",
      "[0.58935361]\n",
      "[0.69201521]\n",
      "[0.46007605]\n",
      "[0.54752852]\n",
      "[0.60836502]\n",
      "[0.62737643]\n",
      "[0.71102662]\n",
      "[0.73764259]\n",
      "[0.6539924]\n",
      "[0.58935361]\n",
      "[0.57414449]\n",
      "[0.58555133]\n",
      "[0.58174905]\n",
      "[0.7148289]\n",
      "[0.83269962]\n",
      "[0.75665399]\n",
      "[0.63117871]\n",
      "[0.63878327]\n",
      "[0.55513308]\n",
      "[0.65019011]\n",
      "[0.95057034]\n",
      "[0.57034221]\n",
      "[0.52091255]\n",
      "[0.52851711]\n",
      "[0.69581749]\n",
      "[0.8365019]\n",
      "[0.84030418]\n",
      "[0.80608365]\n",
      "[0.69961977]\n",
      "[0.63117871]\n",
      "[0.6121673]\n",
      "[0.59695817]\n",
      "[0.63117871]\n",
      "[0.62737643]\n",
      "[0.54752852]\n",
      "[0.54752852]\n",
      "[0.70342205]\n",
      "[0.64258555]\n",
      "[0.66539924]\n",
      "[0.80608365]\n",
      "[0.67680608]\n",
      "[0.70722433]\n",
      "[0.64638783]\n",
      "[0.60836502]\n",
      "[0.50570342]\n",
      "[0.54372624]\n",
      "[0.43346008]\n",
      "[0.61977186]\n",
      "[0.6121673]\n",
      "[0.4486692]\n",
      "[0.46387833]\n",
      "[0.55893536]\n",
      "[0.4486692]\n",
      "[0.42965779]\n",
      "[0.40304183]\n",
      "[0.44486692]\n",
      "[0.53992395]\n",
      "[0.42585551]\n",
      "[0.64258555]\n",
      "[0.63498099]\n",
      "[0.30798479]\n",
      "[0.30418251]\n",
      "[0.33460076]\n",
      "[0.5095057]\n",
      "[0.41444867]\n",
      "[0.5095057]\n",
      "[0.41825095]\n",
      "[0.57034221]\n",
      "[0.59695817]\n",
      "[0.5513308]\n",
      "[0.60076046]\n",
      "[0.63498099]\n",
      "[0.63878327]\n",
      "[0.66539924]\n",
      "[0.65019011]\n",
      "[0.68821293]\n",
      "[0.63117871]\n",
      "[0.38022814]\n",
      "[0.56653992]\n",
      "[0.60456274]\n",
      "[0.49429658]\n"
     ]
    }
   ],
   "source": [
    "## Normalización scikit learn\n",
    "### min Max Value ensures that no matter what scale your data is in, it will be converted to fall between the range of 0 to 1.\n",
    "scaler = MinMaxScaler(feature_range=(0, 1))\n",
    "normalizar = scaler.fit_transform(dataset)\n",
    "for i in range(100):\n",
    "    print(normalizar[i])\n"
   ]
  },
  {
   "cell_type": "code",
   "execution_count": 14,
   "metadata": {},
   "outputs": [
    {
     "name": "stdout",
     "output_type": "stream",
     "text": [
      "[[2.33888328]\n",
      " [1.65113873]\n",
      " [1.87219948]\n",
      " ...\n",
      " [0.5703973 ]\n",
      " [1.11076801]\n",
      " [0.44758577]]\n"
     ]
    }
   ],
   "source": [
    "#Estandarizar \n",
    "## Usaré el scale : Standardize a dataset along any axis\n",
    "\n",
    "scaled = preprocessing.scale(dataset)\n",
    "print (scaled)\n"
   ]
  },
  {
   "cell_type": "code",
   "execution_count": 15,
   "metadata": {},
   "outputs": [
    {
     "data": {
      "text/plain": [
       "array([-1.65468856e-16])"
      ]
     },
     "execution_count": 15,
     "metadata": {},
     "output_type": "execute_result"
    }
   ],
   "source": [
    "##Sacaré la Media del Vector anterior\n",
    "scaled.mean(axis=0)"
   ]
  },
  {
   "cell_type": "code",
   "execution_count": 16,
   "metadata": {},
   "outputs": [
    {
     "data": {
      "text/plain": [
       "array([1.])"
      ]
     },
     "execution_count": 16,
     "metadata": {},
     "output_type": "execute_result"
    }
   ],
   "source": [
    "## Sacaré la desviación \n",
    "scaled.std(axis=0)\n"
   ]
  },
  {
   "cell_type": "code",
   "execution_count": null,
   "metadata": {},
   "outputs": [],
   "source": []
  }
 ],
 "metadata": {
  "kernelspec": {
   "display_name": "Python 3",
   "language": "python",
   "name": "python3"
  },
  "language_info": {
   "codemirror_mode": {
    "name": "ipython",
    "version": 3
   },
   "file_extension": ".py",
   "mimetype": "text/x-python",
   "name": "python",
   "nbconvert_exporter": "python",
   "pygments_lexer": "ipython3",
   "version": "3.7.3"
  }
 },
 "nbformat": 4,
 "nbformat_minor": 2
}
